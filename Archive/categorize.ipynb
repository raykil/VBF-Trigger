{
 "cells": [
  {
   "cell_type": "code",
   "execution_count": 3,
   "metadata": {},
   "outputs": [],
   "source": [
    "import numpy as np\n",
    "import awkward as ak\n",
    "import uproot\n",
    "import vector\n",
    "import mplhep as hep\n",
    "import matplotlib.pyplot as plt\n",
    "import os"
   ]
  },
  {
   "cell_type": "code",
   "execution_count": 1,
   "metadata": {},
   "outputs": [],
   "source": [
    "def MakeJets(events):\n",
    "    Jets = vector.zip({\n",
    "            \"pt\"  : events[\"Jet_pt\"].array(),\n",
    "            \"eta\" : events[\"Jet_eta\"].array(),\n",
    "            \"phi\" : events[\"Jet_phi\"].array(), \n",
    "            \"mass\": events[\"Jet_mass\"].array(),\n",
    "            \"nTracks\": events[\"Jet_nConstituents\"].array(),\n",
    "            \"genWeight\": events[\"genWeight\"].array(),\n",
    "        })\n",
    "    return Jets\n",
    "\n",
    "def GetMaxMjj(Jets):\n",
    "    JetCombo = ak.combinations(Jets,2, fields=[\"jet1\",\"jet2\"])\n",
    "    jjCombo  = JetCombo.jet1 + JetCombo.jet2\n",
    "    mjjCombo = np.sqrt(np.abs((jjCombo.E)**2 - (jjCombo.px**2 + jjCombo.py**2 + jjCombo.pz**2)))\n",
    "    maxmjj   = ak.max(mjjCombo,axis=1)\n",
    "    return maxmjj\n",
    "\n",
    "def GetMaxEta(Jets):\n",
    "    JetCombo = ak.combinations(Jets,2, fields=[\"jet1\",\"jet2\"])\n",
    "    etacombo = vector.Spatial.deltaeta(JetCombo.jet1, JetCombo.jet2)\n",
    "    maxeta   = ak.max(etacombo, axis=1)\n",
    "    return maxeta\n",
    "\n",
    "def ApplyJetCuts(Jets):\n",
    "    nJetCut = (ak.num(Jets)>=2)\n",
    "    Jets = Jets[nJetCut]\n",
    "    return Jets\n",
    "\n",
    "def CheatVBFJets(events):\n",
    "    Jets = MakeJets(events)\n",
    "    GenParts = vector.zip({\n",
    "        \"pt\": events[\"GenPart_pt\"].array(),\n",
    "        \"eta\": events[\"GenPart_eta\"].array(),\n",
    "        \"phi\": events[\"GenPart_phi\"].array(),\n",
    "        \"mass\": events[\"GenPart_mass\"].array(),\n",
    "    })\n",
    "\n",
    "    fromQ, IsHiggs = events[\"GenPart_genPartIdxMother\"].array(), events[\"GenPart_pdgId\"].array()\n",
    "    nJetCut = (ak.num(Jets)>=2)\n",
    "    Jets, GenParts, fromQ, IsHiggs = Jets[nJetCut], GenParts[nJetCut], fromQ[nJetCut], IsHiggs[nJetCut]\n",
    "    IsMotherProton = (fromQ==0) & (IsHiggs!=25)\n",
    "    MotherProton = GenParts[IsMotherProton]\n",
    "    JetMomCombo = ak.cartesian({\"mom\": MotherProton,\"jet\": Jets})\n",
    "    dR = vector.Spatial.deltaR(JetMomCombo.mom, JetMomCombo.jet)\n",
    "    min_dR = ak.where((dR-ak.sort(dR)[:,1])<0.0001, True, False)\n",
    "    VBFJets = JetMomCombo.jet[min_dR]\n",
    "\n",
    "    return VBFJets"
   ]
  },
  {
   "cell_type": "code",
   "execution_count": 4,
   "metadata": {},
   "outputs": [
    {
     "ename": "FileNotFoundError",
     "evalue": "[Errno 2] No such file or directory: '/Users/raymondkil/Desktop/VBF Trigger/RootFiles/SUEP/'",
     "output_type": "error",
     "traceback": [
      "\u001b[0;31m---------------------------------------------------------------------------\u001b[0m",
      "\u001b[0;31mFileNotFoundError\u001b[0m                         Traceback (most recent call last)",
      "Cell \u001b[0;32mIn[4], line 6\u001b[0m\n\u001b[1;32m      3\u001b[0m ewkPath \u001b[39m=\u001b[39m \u001b[39m\"\u001b[39m\u001b[39m/Users/raymondkil/Desktop/VBF Trigger/RootFiles/EWK/\u001b[39m\u001b[39m\"\u001b[39m\n\u001b[1;32m      4\u001b[0m qcdPath \u001b[39m=\u001b[39m \u001b[39m\"\u001b[39m\u001b[39m/Users/raymondkil/Desktop/VBF Trigger/RootFiles/QCD/\u001b[39m\u001b[39m\"\u001b[39m\n\u001b[0;32m----> 6\u001b[0m sigFileNames, ewkFileNames, qcdFileNames \u001b[39m=\u001b[39m os\u001b[39m.\u001b[39;49mlistdir(sigPath), os\u001b[39m.\u001b[39mlistdir(ewkPath), os\u001b[39m.\u001b[39mlistdir(qcdPath)\n\u001b[1;32m      7\u001b[0m sigFileNames, ewkFileNames, qcdFileNames \u001b[39m=\u001b[39m [x \u001b[39mfor\u001b[39;00m x \u001b[39min\u001b[39;00m sigFileNames \u001b[39mif\u001b[39;00m x \u001b[39m!=\u001b[39m \u001b[39m'\u001b[39m\u001b[39m.DS_Store\u001b[39m\u001b[39m'\u001b[39m], [x \u001b[39mfor\u001b[39;00m x \u001b[39min\u001b[39;00m ewkFileNames \u001b[39mif\u001b[39;00m x \u001b[39m!=\u001b[39m \u001b[39m'\u001b[39m\u001b[39m.DS_Store\u001b[39m\u001b[39m'\u001b[39m], [x \u001b[39mfor\u001b[39;00m x \u001b[39min\u001b[39;00m qcdFileNames \u001b[39mif\u001b[39;00m x \u001b[39m!=\u001b[39m \u001b[39m'\u001b[39m\u001b[39m.DS_Store\u001b[39m\u001b[39m'\u001b[39m]\n\u001b[1;32m      9\u001b[0m sigmaxmjjs, sigmaxetas, sigVBFetas, sigVBFmjjs \u001b[39m=\u001b[39m [],[],[],[]\n",
      "\u001b[0;31mFileNotFoundError\u001b[0m: [Errno 2] No such file or directory: '/Users/raymondkil/Desktop/VBF Trigger/RootFiles/SUEP/'"
     ]
    }
   ],
   "source": [
    "# Caution!! The signal I am using in local machine is from Summer22!!!\n",
    "sigPath = \"/Users/raymondkil/Desktop/VBF Trigger/RootFiles/SUEP/\"\n",
    "ewkPath = \"/Users/raymondkil/Desktop/VBF Trigger/RootFiles/EWK/\"\n",
    "qcdPath = \"/Users/raymondkil/Desktop/VBF Trigger/RootFiles/QCD/\"\n",
    "\n",
    "sigFileNames, ewkFileNames, qcdFileNames = os.listdir(sigPath), os.listdir(ewkPath), os.listdir(qcdPath)\n",
    "sigFileNames, ewkFileNames, qcdFileNames = [x for x in sigFileNames if x != '.DS_Store'], [x for x in ewkFileNames if x != '.DS_Store'], [x for x in qcdFileNames if x != '.DS_Store']\n",
    "\n",
    "sigmaxmjjs, sigmaxetas, sigVBFetas, sigVBFmjjs = [],[],[],[]\n",
    "ewkmaxmjjs, ewkmaxetas, ewkVBFetas, ewkVBFmjjs = [],[],[],[]\n",
    "qcdmaxmjjs, qcdmaxetas, qcdVBFetas, qcdVBFmjjs = [],[],[],[]\n",
    "\n",
    "processes = {\n",
    "    \"sig\": [sigFileNames, sigPath, sigmaxmjjs, sigmaxetas, sigVBFetas, sigVBFmjjs],\n",
    "    \"ewk\": [ewkFileNames, ewkPath, ewkmaxmjjs, ewkmaxetas, ewkVBFetas, ewkVBFmjjs],\n",
    "    \"qcd\": [qcdFileNames, qcdPath, qcdmaxmjjs, qcdmaxetas, qcdVBFetas, qcdVBFmjjs]\n",
    "}"
   ]
  },
  {
   "cell_type": "code",
   "execution_count": 5,
   "metadata": {},
   "outputs": [
    {
     "ename": "NameError",
     "evalue": "name 'processes' is not defined",
     "output_type": "error",
     "traceback": [
      "\u001b[0;31m---------------------------------------------------------------------------\u001b[0m",
      "\u001b[0;31mNameError\u001b[0m                                 Traceback (most recent call last)",
      "Cell \u001b[0;32mIn[5], line 2\u001b[0m\n\u001b[1;32m      1\u001b[0m \u001b[39mfor\u001b[39;00m process \u001b[39min\u001b[39;00m [\u001b[39m'\u001b[39m\u001b[39msig\u001b[39m\u001b[39m'\u001b[39m,\u001b[39m'\u001b[39m\u001b[39mewk\u001b[39m\u001b[39m'\u001b[39m,\u001b[39m'\u001b[39m\u001b[39mqcd\u001b[39m\u001b[39m'\u001b[39m]:\n\u001b[0;32m----> 2\u001b[0m     filenames, path, maxmjjs, maxetas, VBFetas, VBFmjjs \u001b[39m=\u001b[39m processes[process]\n\u001b[1;32m      3\u001b[0m     \u001b[39mfor\u001b[39;00m filename \u001b[39min\u001b[39;00m filenames:\n\u001b[1;32m      4\u001b[0m         \u001b[39mprint\u001b[39m(\u001b[39m\"\u001b[39m\u001b[39mProcessing file \u001b[39m\u001b[39m{}\u001b[39;00m\u001b[39m\"\u001b[39m\u001b[39m.\u001b[39mformat(filename))\n",
      "\u001b[0;31mNameError\u001b[0m: name 'processes' is not defined"
     ]
    }
   ],
   "source": [
    "for process in ['sig','ewk','qcd']:\n",
    "    filenames, path, maxmjjs, maxetas, VBFetas, VBFmjjs = processes[process]\n",
    "    for filename in filenames:\n",
    "        print(\"Processing file {}\".format(filename))\n",
    "        f = uproot.open(path+filename)\n",
    "        events = f[\"Events\"]\n",
    "\n",
    "        Jets = vector.zip({\n",
    "            \"pt\"  : events[\"Jet_pt\"].array(),\n",
    "            \"eta\" : events[\"Jet_eta\"].array(),\n",
    "            \"phi\" : events[\"Jet_phi\"].array(), \n",
    "            \"mass\": events[\"Jet_mass\"].array(),\n",
    "            \"nTracks\": events[\"Jet_nConstituents\"].array(),\n",
    "            \"genWeight\": events[\"genWeight\"].array(),\n",
    "        })\n",
    "        Jets = ApplyJetCuts(Jets) # Cuts work well at this point\n",
    "\n",
    "        maxmjj = GetMaxMjj(Jets)\n",
    "        maxeta = GetMaxEta(Jets)\n",
    "\n",
    "        VBFJet1, VBFJet2 = CheatVBFJets(events)[:,0], CheatVBFJets(events)[:,1]\n",
    "        VBFeta = vector.Spatial.deltaeta(VBFJet1, VBFJet2)\n",
    "        VBFjjCombo  = VBFJet1 + VBFJet2\n",
    "        VBFmjj = np.sqrt(np.abs((VBFjjCombo.E)**2 - (VBFjjCombo.px**2 + VBFjjCombo.py**2 + VBFjjCombo.pz**2)))\n",
    "\n",
    "        maxmjjs = np.concatenate((maxmjjs, maxmjj))\n",
    "        maxetas = np.concatenate((maxetas, maxeta))\n",
    "        VBFetas = np.concatenate((VBFetas, VBFeta))\n",
    "        VBFmjjs = np.concatenate((VBFmjjs, VBFmjj))\n",
    "\n",
    "    if process == 'sig':\n",
    "        sigmaxmjjs, sigmaxetas, sigVBFetas, sigVBFetas = maxmjjs, maxetas, VBFetas, VBFmjjs\n",
    "    if process == 'ewk':\n",
    "        ewkmaxmjjs, ewkmaxetas, ewkVBFetas, ewkVBFetas = maxmjjs, maxetas, VBFetas, VBFmjjs\n",
    "    if process == 'qcd':\n",
    "        qcdmaxmjjs, qcdmaxetas, qcdVBFetas, qcdVBFetas = maxmjjs, maxetas, VBFetas, VBFmjjs"
   ]
  },
  {
   "cell_type": "code",
   "execution_count": 6,
   "metadata": {},
   "outputs": [
    {
     "ename": "NameError",
     "evalue": "name 'qcdFileNames' is not defined",
     "output_type": "error",
     "traceback": [
      "\u001b[0;31m---------------------------------------------------------------------------\u001b[0m",
      "\u001b[0;31mNameError\u001b[0m                                 Traceback (most recent call last)",
      "Cell \u001b[0;32mIn[6], line 3\u001b[0m\n\u001b[1;32m      1\u001b[0m \u001b[39m# Weights\u001b[39;00m\n\u001b[1;32m      2\u001b[0m qcdWeights \u001b[39m=\u001b[39m []\n\u001b[0;32m----> 3\u001b[0m \u001b[39mfor\u001b[39;00m filename \u001b[39min\u001b[39;00m qcdFileNames:\n\u001b[1;32m      4\u001b[0m     \u001b[39mprint\u001b[39m(\u001b[39m\"\u001b[39m\u001b[39mProcessing file \u001b[39m\u001b[39m{}\u001b[39;00m\u001b[39m\"\u001b[39m\u001b[39m.\u001b[39mformat(filename))\n\u001b[1;32m      5\u001b[0m     f \u001b[39m=\u001b[39m uproot\u001b[39m.\u001b[39mopen(path\u001b[39m+\u001b[39mfilename)\n",
      "\u001b[0;31mNameError\u001b[0m: name 'qcdFileNames' is not defined"
     ]
    }
   ],
   "source": [
    "# Weights\n",
    "qcdWeights = []\n",
    "for filename in qcdFileNames:\n",
    "    print(\"Processing file {}\".format(filename))\n",
    "    f = uproot.open(path+filename)\n",
    "    events = f[\"Events\"]\n",
    "    genWeight = events[\"genWeight\"].array() # Looks like [1.25e-05, 1.32e-16, 1.55e-17, 1.25e-09, ... 1.23e-15, 2.21e-11, 5.11e-11, 5.48e-11], len 774000 -> one per event\n",
    "    Jets = vector.zip({\n",
    "        \"pt\"  : events[\"Jet_pt\"].array(),\n",
    "        \"eta\" : events[\"Jet_eta\"].array(),\n",
    "        \"phi\" : events[\"Jet_phi\"].array(), \n",
    "        \"mass\": events[\"Jet_mass\"].array(),\n",
    "    })\n",
    "    nJetCut = (ak.num(Jets)>=2) # looks like [True, True, True, True, True, True, True, ... True, True, True, True, True, True]\n",
    "    genWeight = genWeight[nJetCut] # now len 758915 -> cut works well!\n",
    "    qcdWeights = np.concatenate((qcdWeights, genWeight))"
   ]
  },
  {
   "cell_type": "code",
   "execution_count": 7,
   "metadata": {},
   "outputs": [
    {
     "ename": "NameError",
     "evalue": "name 'sigmaxmjjs' is not defined",
     "output_type": "error",
     "traceback": [
      "\u001b[0;31m---------------------------------------------------------------------------\u001b[0m",
      "\u001b[0;31mNameError\u001b[0m                                 Traceback (most recent call last)",
      "Cell \u001b[0;32mIn[7], line 4\u001b[0m\n\u001b[1;32m      2\u001b[0m plt\u001b[39m.\u001b[39mfigure()\n\u001b[1;32m      3\u001b[0m binsize \u001b[39m=\u001b[39m \u001b[39m100\u001b[39m\n\u001b[0;32m----> 4\u001b[0m sigMAXhist, sigMAXbins \u001b[39m=\u001b[39m np\u001b[39m.\u001b[39mhistogram(sigmaxmjjs, bins\u001b[39m=\u001b[39mnp\u001b[39m.\u001b[39marange(\u001b[39mmin\u001b[39m(sigmaxmjjs), \u001b[39mmax\u001b[39m(sigmaxmjjs) \u001b[39m+\u001b[39m binsize, binsize))\n\u001b[1;32m      5\u001b[0m ewkMAXhist, ewkMAXbins \u001b[39m=\u001b[39m np\u001b[39m.\u001b[39mhistogram(ewkmaxmjjs, bins\u001b[39m=\u001b[39mnp\u001b[39m.\u001b[39marange(\u001b[39mmin\u001b[39m(ewkmaxmjjs), \u001b[39mmax\u001b[39m(ewkmaxmjjs) \u001b[39m+\u001b[39m binsize, binsize))\n\u001b[1;32m      6\u001b[0m qcdMAXhist, qcdMAXbins \u001b[39m=\u001b[39m np\u001b[39m.\u001b[39mhistogram(qcdmaxmjjs, bins\u001b[39m=\u001b[39mnp\u001b[39m.\u001b[39marange(\u001b[39mmin\u001b[39m(qcdmaxmjjs), \u001b[39mmax\u001b[39m(qcdmaxmjjs) \u001b[39m+\u001b[39m binsize, binsize), weights\u001b[39m=\u001b[39mqcdWeights)\n",
      "\u001b[0;31mNameError\u001b[0m: name 'sigmaxmjjs' is not defined"
     ]
    },
    {
     "data": {
      "text/plain": [
       "<Figure size 640x480 with 0 Axes>"
      ]
     },
     "metadata": {},
     "output_type": "display_data"
    }
   ],
   "source": [
    "# Plotting for mjj\n",
    "plt.figure()\n",
    "binsize = 100\n",
    "sigMAXhist, sigMAXbins = np.histogram(sigmaxmjjs, bins=np.arange(min(sigmaxmjjs), max(sigmaxmjjs) + binsize, binsize))\n",
    "ewkMAXhist, ewkMAXbins = np.histogram(ewkmaxmjjs, bins=np.arange(min(ewkmaxmjjs), max(ewkmaxmjjs) + binsize, binsize))\n",
    "qcdMAXhist, qcdMAXbins = np.histogram(qcdmaxmjjs, bins=np.arange(min(qcdmaxmjjs), max(qcdmaxmjjs) + binsize, binsize), weights=qcdWeights)\n",
    "sigVBFhist, sigVBFbins = np.histogram(sigVBFmjjs, bins=np.arange(min(sigVBFmjjs), max(sigVBFmjjs) + binsize, binsize))\n",
    "ewkVBFhist, ewkVBFbins = np.histogram(ewkVBFmjjs, bins=np.arange(min(ewkVBFmjjs), max(ewkVBFmjjs) + binsize, binsize))\n",
    "qcdVBFhist, qcdVBFbins = np.histogram(qcdVBFmjjs, bins=np.arange(min(qcdVBFmjjs), max(qcdVBFmjjs) + binsize, binsize), weights=qcdWeights)\n",
    "plt.style.use(hep.style.CMS)\n",
    "\n",
    "hep.histplot(sigMAXhist, sigMAXbins, histtype='step', label='sig max', color='tab:blue',   density=True)\n",
    "hep.histplot(ewkMAXhist, ewkMAXbins, histtype='step', label='ewk max', color='tab:green',  density=True)\n",
    "hep.histplot(qcdMAXhist, qcdMAXbins, histtype='step', label='qcd max', color='tab:orange', density=True)\n",
    "hep.histplot(sigVBFhist, sigVBFbins, histtype='step', label='sig vbf', color='tab:blue',   density=True, linestyle=('dashed'))\n",
    "hep.histplot(ewkVBFhist, ewkVBFbins, histtype='step', label='ewk vbf', color='tab:green',  density=True, linestyle=('dashed'))\n",
    "hep.histplot(qcdVBFhist, qcdVBFbins, histtype='step', label='qcd vbf', color='tab:orange', density=True, linestyle=('dashed'))\n",
    "\n",
    "hep.cms.text(\"Simulation\")\n",
    "hep.cms.lumitext(r\"Run3 Summer 22, (13 TeV)\")\n",
    "plt.title(\"\")\n",
    "plt.xlabel(r\"$m_{jj}$ (GeV)\")\n",
    "plt.ylabel(r\"Normalized Counts\")\n",
    "plt.xlim(1000,5000)\n",
    "plt.ylim(0,0.001)\n",
    "plt.legend()"
   ]
  },
  {
   "cell_type": "code",
   "execution_count": 8,
   "metadata": {},
   "outputs": [
    {
     "ename": "NameError",
     "evalue": "name 'sigmaxetas' is not defined",
     "output_type": "error",
     "traceback": [
      "\u001b[0;31m---------------------------------------------------------------------------\u001b[0m",
      "\u001b[0;31mNameError\u001b[0m                                 Traceback (most recent call last)",
      "Cell \u001b[0;32mIn[8], line 5\u001b[0m\n\u001b[1;32m      3\u001b[0m plt\u001b[39m.\u001b[39mfigure()\n\u001b[1;32m      4\u001b[0m binsize \u001b[39m=\u001b[39m \u001b[39m0.1\u001b[39m\n\u001b[0;32m----> 5\u001b[0m sigMAXhist, sigMAXbins \u001b[39m=\u001b[39m np\u001b[39m.\u001b[39mhistogram(sigmaxetas, bins\u001b[39m=\u001b[39mnp\u001b[39m.\u001b[39marange(\u001b[39mmin\u001b[39m(sigmaxetas), \u001b[39mmax\u001b[39m(sigmaxetas) \u001b[39m+\u001b[39m binsize, binsize))\n\u001b[1;32m      6\u001b[0m ewkMAXhist, ewkMAXbins \u001b[39m=\u001b[39m np\u001b[39m.\u001b[39mhistogram(ewkmaxetas, bins\u001b[39m=\u001b[39mnp\u001b[39m.\u001b[39marange(\u001b[39mmin\u001b[39m(ewkmaxetas), \u001b[39mmax\u001b[39m(ewkmaxetas) \u001b[39m+\u001b[39m binsize, binsize))\n\u001b[1;32m      7\u001b[0m qcdMAXhist, qcdMAXbins \u001b[39m=\u001b[39m np\u001b[39m.\u001b[39mhistogram(qcdmaxetas, bins\u001b[39m=\u001b[39mnp\u001b[39m.\u001b[39marange(\u001b[39mmin\u001b[39m(qcdmaxetas), \u001b[39mmax\u001b[39m(qcdmaxetas) \u001b[39m+\u001b[39m binsize, binsize), weights\u001b[39m=\u001b[39mqcdWeights)\n",
      "\u001b[0;31mNameError\u001b[0m: name 'sigmaxetas' is not defined"
     ]
    },
    {
     "data": {
      "text/plain": [
       "<Figure size 640x480 with 0 Axes>"
      ]
     },
     "metadata": {},
     "output_type": "display_data"
    }
   ],
   "source": [
    "# Plotting etas\n",
    "\n",
    "plt.figure()\n",
    "binsize = 0.1\n",
    "sigMAXhist, sigMAXbins = np.histogram(sigmaxetas, bins=np.arange(min(sigmaxetas), max(sigmaxetas) + binsize, binsize))\n",
    "ewkMAXhist, ewkMAXbins = np.histogram(ewkmaxetas, bins=np.arange(min(ewkmaxetas), max(ewkmaxetas) + binsize, binsize))\n",
    "qcdMAXhist, qcdMAXbins = np.histogram(qcdmaxetas, bins=np.arange(min(qcdmaxetas), max(qcdmaxetas) + binsize, binsize), weights=qcdWeights)\n",
    "sigVBFhist, sigVBFbins = np.histogram(sigVBFetas, bins=np.arange(min(sigVBFetas), max(sigVBFetas) + binsize, binsize))\n",
    "ewkVBFhist, ewkVBFbins = np.histogram(ewkVBFmjjs, bins=np.arange(min(ewkVBFetas), max(ewkVBFetas) + binsize, binsize))\n",
    "qcdVBFhist, qcdVBFbins = np.histogram(qcdVBFmjjs, bins=np.arange(min(qcdVBFetas), max(qcdVBFetas) + binsize, binsize), weights=qcdWeights)\n",
    "plt.style.use(hep.style.CMS)\n",
    "\n",
    "hep.histplot(sigMAXhist, sigMAXbins, histtype='step', label='sig max', color='tab:blue',   density=True)\n",
    "hep.histplot(ewkMAXhist, ewkMAXbins, histtype='step', label='ewk max', color='tab:green',  density=True)\n",
    "hep.histplot(qcdMAXhist, qcdMAXbins, histtype='step', label='qcd max', color='tab:orange', density=True)\n",
    "hep.histplot(sigVBFhist, sigVBFbins, histtype='step', label='sig vbf', color='tab:blue',   density=True, linestyle=('dashed'))\n",
    "hep.histplot(ewkVBFhist, ewkVBFbins, histtype='step', label='ewk vbf', color='tab:green',  density=True, linestyle=('dashed'))\n",
    "hep.histplot(qcdVBFhist, qcdVBFbins, histtype='step', label='qcd vbf', color='tab:orange', density=True, linestyle=('dashed'))\n",
    "\n",
    "hep.cms.text(\"Simulation\")\n",
    "hep.cms.lumitext(r\"Run3 Summer 22, (13 TeV)\")\n",
    "plt.title(\"\")\n",
    "plt.xlabel(r\"$\\Delta\\eta$\")\n",
    "plt.ylabel(r\"Normalized Counts\")\n",
    "plt.xlim(0,11)\n",
    "plt.legend()"
   ]
  },
  {
   "cell_type": "code",
   "execution_count": null,
   "metadata": {},
   "outputs": [],
   "source": []
  }
 ],
 "metadata": {
  "kernelspec": {
   "display_name": "base",
   "language": "python",
   "name": "python3"
  },
  "language_info": {
   "codemirror_mode": {
    "name": "ipython",
    "version": 3
   },
   "file_extension": ".py",
   "mimetype": "text/x-python",
   "name": "python",
   "nbconvert_exporter": "python",
   "pygments_lexer": "ipython3",
   "version": "3.10.4"
  },
  "orig_nbformat": 4
 },
 "nbformat": 4,
 "nbformat_minor": 2
}
